{
 "cells": [
  {
   "cell_type": "markdown",
   "metadata": {},
   "source": [
    " density low <=> sigma big => entropy big => perplexity big"
   ]
  },
  {
   "cell_type": "code",
   "execution_count": 1,
   "metadata": {
    "collapsed": true
   },
   "outputs": [],
   "source": [
    "import tensorflow as tf\n",
    "import numpy as np\n",
    "import matplotlib.pyplot as plt\n",
    "from tensorflow.examples.tutorials.mnist import input_data"
   ]
  },
  {
   "cell_type": "code",
   "execution_count": 2,
   "metadata": {},
   "outputs": [
    {
     "name": "stdout",
     "output_type": "stream",
     "text": [
      "Extracting ./MNIST_data\\train-images-idx3-ubyte.gz\n",
      "Extracting ./MNIST_data\\train-labels-idx1-ubyte.gz\n",
      "Extracting ./MNIST_data\\t10k-images-idx3-ubyte.gz\n",
      "Extracting ./MNIST_data\\t10k-labels-idx1-ubyte.gz\n"
     ]
    }
   ],
   "source": [
    "mnist = input_data.read_data_sets('./MNIST_data', one_hot=True)"
   ]
  },
  {
   "cell_type": "code",
   "execution_count": 3,
   "metadata": {
    "collapsed": true
   },
   "outputs": [],
   "source": [
    "val = {}\n",
    "ndata = 200\n",
    "val['image'] = mnist.validation.images[:ndata]\n",
    "val['label'] = mnist.validation.labels[:ndata]"
   ]
  },
  {
   "cell_type": "code",
   "execution_count": 4,
   "metadata": {
    "collapsed": true
   },
   "outputs": [],
   "source": [
    "sq_dist= np.zeros([ndata, ndata])\n",
    "for i in range(ndata):\n",
    "    for j in range(ndata):\n",
    "        sq_dist[i][j] = np.sum(np.square(val['image'][i]-val['image'][j]))"
   ]
  },
  {
   "cell_type": "code",
   "execution_count": 5,
   "metadata": {
    "collapsed": true
   },
   "outputs": [],
   "source": [
    "def normalize(array):\n",
    "    '''\n",
    "    normalize for 1D array\n",
    "    '''\n",
    "    return array/np.sum(array)\n",
    "\n",
    "def get_entropy(array):\n",
    "    '''\n",
    "    Calculate entropy for 1D array\n",
    "    '''\n",
    "    if np.sum(array) !=1:\n",
    "        array = normalize(array)\n",
    "        \n",
    "    sum_ = 0\n",
    "    length = len(array)\n",
    "    for i in range(length):\n",
    "        if array[i]!=0:\n",
    "            sum_+=array[i]*np.log2(array[i])\n",
    "    return -sum_\n",
    "\n",
    "def get_prob(sigma_1d):\n",
    "    '''\n",
    "    prob[i][j] = p_{j|i}\n",
    "    '''\n",
    "    prob = np.zeros([ndata, ndata])\n",
    "    for i in range(ndata):\n",
    "        for j in range(ndata):\n",
    "            prob[i][j] = np.exp(-sq_dist[i][j]/2/sigma_1d[i]/sigma_1d[i])\n",
    "    \n",
    "    #diagonal should be 0\n",
    "    for i in range(ndata):\n",
    "        prob[i][i] = 0 \n",
    "    \n",
    "    for i in range(ndata):\n",
    "        prob[i] = normalize(prob[i])\n",
    "    \n",
    "    return prob\n",
    "\n",
    "def get_prob_1d(row, sigma):\n",
    "    '''\n",
    "    prob[i][j] = p_{j|i}\n",
    "    return prob[i]\n",
    "    '''\n",
    "    prob = np.zeros(ndata)\n",
    "    for j in range(ndata):\n",
    "        prob[j] = np.exp(-sq_dist[row][j]/2/sigma/sigma)\n",
    "    \n",
    "    #diagonal should be 0\n",
    "    prob[row] = 0 \n",
    "    \n",
    "    return normalize(prob)\n",
    "\n",
    "\n",
    "def get_perp(entropy):\n",
    "    return np.power(2, entropy)\n",
    "\n",
    "def get_shape(tensor):\n",
    "    return tensor.get_shape().as_list()\n",
    "\n",
    "def t_sne(y):\n",
    "    '''\n",
    "    Arg :\n",
    "        y - 2D tensor [ndata, 2]\n",
    "    '''\n",
    "    batch, _ = get_shape(y)\n",
    "    y_tr = tf.transpose(y)\n",
    "    y0 = tf.transpose([y_tr[0]])-y_tr[0]\n",
    "    y1 = tf.transpose([y_tr[1]])-y_tr[1]\n",
    "    y_square = tf.square(y0)+tf.square(y1)\n",
    "    y_add = y_square+1\n",
    "    y_div = tf.div(1., y_add)\n",
    "    y_mask = y_div*(1-tf.eye(batch))\n",
    "    y_sum = tf.reduce_sum(y_mask)\n",
    "    y_normalize = y_mask/y_sum\n",
    "    cost = -tf.reduce_mean(joint_prob*tf.log(clip(y_normalize)))\n",
    "    return cost\n",
    "\n",
    "def clip(x, vmax = 1-1e-10, vmin = 1e-10):\n",
    "    return tf.clip_by_value(x, clip_value_max=vmax, clip_value_min=vmin)"
   ]
  },
  {
   "cell_type": "code",
   "execution_count": 6,
   "metadata": {
    "collapsed": true
   },
   "outputs": [],
   "source": [
    "max_try = 1000\n",
    "boundary = 1\n",
    "perp = 40\n",
    "sigma = np.ones(ndata)"
   ]
  },
  {
   "cell_type": "code",
   "execution_count": 7,
   "metadata": {
    "collapsed": true
   },
   "outputs": [],
   "source": [
    "for i in range(ndata):\n",
    "    smax = np.max(sq_dist)\n",
    "    smin = np.min(sq_dist)\n",
    "    cur_perp = get_perp(get_entropy(get_prob_1d(i, sigma[i])))\n",
    "    trial = 0\n",
    "    perp_diff = np.abs(perp - cur_perp)\n",
    "    while perp_diff > boundary and trial < max_try:\n",
    "        trial+=1\n",
    "        if perp>cur_perp:\n",
    "            smin = sigma[i]\n",
    "            sigma[i] = (sigma[i]+smax)/2\n",
    "        else: \n",
    "            smax = sigma[i]\n",
    "            sigma[i] = (sigma[i]+smin)/2\n",
    "        cur_perp = get_perp(get_entropy(get_prob_1d(i, sigma[i])))\n",
    "        perp_diff = np.abs(perp - cur_perp)"
   ]
  },
  {
   "cell_type": "code",
   "execution_count": 8,
   "metadata": {
    "collapsed": true
   },
   "outputs": [],
   "source": [
    "prob = get_prob(sigma)"
   ]
  },
  {
   "cell_type": "code",
   "execution_count": 9,
   "metadata": {
    "collapsed": true
   },
   "outputs": [],
   "source": [
    "joint_prob = np.zeros((ndata, ndata))\n",
    "for i in range(ndata):\n",
    "    for j in range(ndata):\n",
    "        joint_prob[i][j]=(prob[i][j]+prob[j][i])/2/ndata"
   ]
  },
  {
   "cell_type": "code",
   "execution_count": 10,
   "metadata": {},
   "outputs": [
    {
     "data": {
      "text/plain": [
       "(200, 200)"
      ]
     },
     "execution_count": 10,
     "metadata": {},
     "output_type": "execute_result"
    }
   ],
   "source": [
    "joint_prob.shape"
   ]
  },
  {
   "cell_type": "code",
   "execution_count": 11,
   "metadata": {
    "collapsed": true
   },
   "outputs": [],
   "source": [
    "image_size = 784\n",
    "hidden1 = 500\n",
    "hidden2 = 500\n",
    "hidden3 = 2000"
   ]
  },
  {
   "cell_type": "code",
   "execution_count": 12,
   "metadata": {
    "collapsed": true
   },
   "outputs": [],
   "source": [
    "x = tf.placeholder(dtype = tf.float32, shape = [ndata, image_size], name = 'image')\n",
    "\n",
    "layer1 = {}\n",
    "layer2 = {}\n",
    "layer3 = {}\n",
    "layer4 = {}\n",
    "\n",
    "with tf.variable_scope(\"layer1\"):\n",
    "    layer1['w'] = tf.Variable(initial_value = tf.random_normal(shape = [image_size, hidden1], mean = 0.0, stddev = 1.0),\n",
    "                              name = 'weight')\n",
    "    layer1['b'] = tf.Variable(initial_value = tf.constant(value=0.01, shape = [hidden1]),\n",
    "                              name = 'bias')\n",
    "    layer1['output'] = tf.nn.relu(tf.add(tf.matmul(x, layer1['w']), layer1['b']))\n",
    "\n",
    "with tf.variable_scope(\"layer2\"):\n",
    "    layer2['w'] = tf.Variable(initial_value = tf.random_normal(shape = [hidden1, hidden2], mean = 0.0, stddev = 1.0),\n",
    "                              name = 'weight')\n",
    "    layer2['b'] = tf.Variable(initial_value = tf.constant(value=0.01, shape = [hidden2]),\n",
    "                              name = 'bias')\n",
    "    layer2['output'] = tf.nn.relu(tf.add(tf.matmul(layer1['output'], layer2['w']), layer2['b']))\n",
    "    \n",
    "with tf.variable_scope(\"layer3\"):\n",
    "    layer3['w'] = tf.Variable(initial_value = tf.random_normal(shape = [hidden2, hidden3], mean = 0.0, stddev = 1.0),\n",
    "                              name = 'weight')\n",
    "    layer3['b'] = tf.Variable(initial_value = tf.constant(value=0.01, shape = [hidden3]),\n",
    "                              name = 'bias')\n",
    "    layer3['output'] = tf.nn.relu(tf.add(tf.matmul(layer2['output'], layer3['w']), layer3['b']))\n",
    "\n",
    "with tf.variable_scope(\"layer4\"):\n",
    "    layer4['w'] = tf.Variable(initial_value = tf.random_normal(shape = [hidden3, 2], mean = 0.0, stddev = 1.0),\n",
    "                              name = 'weight')\n",
    "    layer4['b'] = tf.Variable(initial_value = tf.constant(value=0.00, shape = [2]),\n",
    "                              name = 'bias')\n",
    "    layer4['output'] = tf.add(tf.matmul(layer3['output'], layer4['w']), layer4['b'])\n",
    "    \n",
    "cost = t_sne(layer4['output'])"
   ]
  },
  {
   "cell_type": "code",
   "execution_count": 13,
   "metadata": {
    "collapsed": true
   },
   "outputs": [],
   "source": [
    "run_train = tf.train.AdamOptimizer(1e-3).minimize(cost)"
   ]
  },
  {
   "cell_type": "code",
   "execution_count": 14,
   "metadata": {
    "collapsed": true
   },
   "outputs": [],
   "source": [
    "train_steps = 10000\n",
    "log_every = 1000"
   ]
  },
  {
   "cell_type": "code",
   "execution_count": 15,
   "metadata": {
    "collapsed": true
   },
   "outputs": [],
   "source": [
    "sess= tf.Session()"
   ]
  },
  {
   "cell_type": "code",
   "execution_count": 16,
   "metadata": {},
   "outputs": [
    {
     "name": "stdout",
     "output_type": "stream",
     "text": [
      "1000 step cost : 0.00026225901092402637\n",
      "2000 step cost : 0.00025299936532974243\n",
      "3000 step cost : 0.00024624611251056194\n",
      "4000 step cost : 0.0002427020517643541\n",
      "5000 step cost : 0.00024144082271959633\n",
      "6000 step cost : 0.00024062037118710577\n",
      "7000 step cost : 0.00023950629110913724\n",
      "8000 step cost : 0.00023916043573990464\n",
      "9000 step cost : 0.00023914843040984124\n",
      "10000 step cost : 0.0002391377929598093\n"
     ]
    }
   ],
   "source": [
    "sess.run(tf.global_variables_initializer())\n",
    "for step in range(train_steps):\n",
    "    _, c = sess.run([run_train, cost], feed_dict={x : val['image']})\n",
    "    if step%log_every == log_every - 1:\n",
    "        print(\"{} step cost : {}\".format(step+1, c))"
   ]
  },
  {
   "cell_type": "code",
   "execution_count": 23,
   "metadata": {},
   "outputs": [
    {
     "data": {
      "image/png": "[encoded data removed]",
      "text/plain": [
       "<matplotlib.figure.Figure at 0x1d9267a3d30>"
      ]
     },
     "metadata": {},
     "output_type": "display_data"
    }
   ],
   "source": [
    "mapped = sess.run(layer4['output'], feed_dict = {x : val['image']})\n",
    "color = ['C0', 'C1', 'C2', 'C3', 'C4', 'C5', 'C6', 'C7', 'C8', 'C9']\n",
    "for i in range(ndata):\n",
    "    plt.scatter(mapped[i][0], mapped[i][1], c=color[np.argmax(val['label'][i])], )\n",
    "plt.show()"
   ]
  }
 ],
 "metadata": {
  "kernelspec": {
   "display_name": "Python 3",
   "language": "python",
   "name": "python3"
  },
  "language_info": {
   "codemirror_mode": {
    "name": "ipython",
    "version": 3
   },
   "file_extension": ".py",
   "mimetype": "text/x-python",
   "name": "python",
   "nbconvert_exporter": "python",
   "pygments_lexer": "ipython3",
   "version": "3.6.1"
  }
 },
 "nbformat": 4,
 "nbformat_minor": 2
}
