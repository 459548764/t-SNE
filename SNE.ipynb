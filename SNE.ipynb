{
 "cells": [
  {
   "cell_type": "markdown",
   "metadata": {},
   "source": [
    "# SNE"
   ]
  },
  {
   "cell_type": "markdown",
   "metadata": {},
   "source": [
    "$$ C=\\sum_i KL(P_i | Q_i) = \\sum_i \\sum_j p_{j|i}\\log\\frac{p_{j|i}}{q_{j|i}}$$\n",
    "\n",
    "$$q_{j|i} = \\frac{\\exp(-||y_i-y_j||^2)}{\\sum_{k}\\exp(-||y_i-y_k||^2}$$"
   ]
  },
  {
   "cell_type": "markdown",
   "metadata": {},
   "source": [
    "## 1.\n",
    "$$z_{j,i}=z_{i,j}=\\exp(-||y_i-y_j||)^2$$\n",
    "$$\\frac{\\partial z_{i,j}}{\\partial y_i}=-2(y_i-y_j)z_{i,j}$$"
   ]
  },
  {
   "cell_type": "markdown",
   "metadata": {},
   "source": [
    "## 2.\n",
    "\n",
    "### 2.1\n",
    "\n",
    "$$q_{k|j}=\\frac{z_{k,j}}{\\sum_t z_{j,t}}$$\n",
    "$$\\frac{\\partial }{\\partial y_i}\\log q_{k|j}=2q_{i|j}(y_i-y_j)$$\n",
    "\n",
    "### 2.2\n",
    "$$q_{i|j}=\\frac{z_{i,j}}{\\sum_t z_{j,t}}$$\n",
    "$$\\frac{\\partial }{\\partial y_i}\\log q_{i|j}=2(y_i-y_j)(q_{i|j}-1)$$\n",
    "\n",
    "### 2.3\n",
    "$$q_{j|i}=\\frac{z_{i,j}}{\\sum_t z_{i,t}}$$\n",
    "$$\\frac{\\partial }{\\partial y_i}\\log q_{j|i}=-2\\big{(}(y_i-y_j)+\\sum_t (y_i-y_t)q_{t|i}\\big{)}$$"
   ]
  },
  {
   "cell_type": "markdown",
   "metadata": {},
   "source": [
    "## 3.\n",
    "$$ \\frac{\\partial C}{\\partial y_i}= -\\frac{\\partial }{\\partial y_i} \\sum_j \\sum_k p_{k|j}\\log q_{k|j}$$\n",
    "$$=-\\frac{\\partial }{\\partial y_i} \\sum_{j, k\\neq i} p_{k|j}\\log q_{k|j}-\\frac{\\partial }{\\partial y_i} \\sum_{j} p_{i|j}\\log q_{i|j}-\\frac{\\partial }{\\partial y_i} \\sum_{j} p_{j|i}\\log q_{j|i}$$\n",
    "\n",
    "\n",
    "\n",
    "$$=-\\sum_{j, k\\neq i} 2p_{k|j}q_{i|j}(y_i-y_j)\n",
    "-\\sum_j 2p_{i|j}(q_{i,j}-1)(y_i-y_j)\n",
    "+\\sum_j 2p_{j|i}\\big{(}(y_i-y_j)-\\sum_t (y_i-y_t)q_{t|i}\\big{)}$$\n",
    "\n",
    "$$=-\\sum_{j \\neq i} 2(1-p_{i|j})q_{i|j}(y_i-y_j)\n",
    "-\\sum_j 2p_{i|j}(q_{i,j}-1)(y_i-y_j)\n",
    "+\\sum_j 2p_{j|i}(y_i-y_j)-\\sum_j\\sum_t p_{j|i}(y_i-y_t)q_{t|i}$$\n",
    "\n",
    "$$=-\\sum_{j} 2q_{i|j}(y_i-y_j)\n",
    "+\\sum_j 2p_{i|j}(y_i-y_j)\n",
    "+\\sum_j 2p_{j|i}(y_i-y_j)-\\sum_t\\sum_j p_{j|i}(y_i-y_t)q_{t|i}$$\n",
    "\n",
    "$$=-\\sum_{j} 2q_{i|j}(y_i-y_j)\n",
    "+\\sum_j 2p_{i|j}(y_i-y_j)\n",
    "+\\sum_j 2p_{j|i}(y_i-y_j)-\\sum_t(y_i-y_t)q_{t|i}$$\n",
    "\n",
    "$$=-\\sum_{j} 2q_{i|j}(y_i-y_j)\n",
    "+\\sum_j 2p_{i|j}(y_i-y_j)\n",
    "+\\sum_j 2p_{j|i}(y_i-y_j)-\\sum_j(y_i-y_j)q_{j|i}$$\n",
    "\n",
    "$$=-2\\sum_{j} \\big{(}p_{i|j}-q_{i|j}+p_{j|i}-q_{j|i}\\big{)}(y_i-y_j)$$"
   ]
  }
 ],
 "metadata": {
  "kernelspec": {
   "display_name": "Python 3",
   "language": "python",
   "name": "python3"
  },
  "language_info": {
   "codemirror_mode": {
    "name": "ipython",
    "version": 3
   },
   "file_extension": ".py",
   "mimetype": "text/x-python",
   "name": "python",
   "nbconvert_exporter": "python",
   "pygments_lexer": "ipython3",
   "version": "3.6.1"
  }
 },
 "nbformat": 4,
 "nbformat_minor": 2
}
